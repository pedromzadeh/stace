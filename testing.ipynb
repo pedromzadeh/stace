{
 "cells": [
  {
   "cell_type": "code",
   "execution_count": null,
   "metadata": {},
   "outputs": [],
   "source": [
    "from dataloader import ThingSpeak\n",
    "\n",
    "TS = ThingSpeak(channel_id=1329419, api_key=None, GET_config={\"results\" : 10})"
   ]
  },
  {
   "cell_type": "code",
   "execution_count": null,
   "metadata": {},
   "outputs": [],
   "source": [
    "df = TS.fetch()"
   ]
  },
  {
   "cell_type": "code",
   "execution_count": null,
   "metadata": {},
   "outputs": [],
   "source": [
    "import plots\n",
    "from importlib import reload\n",
    "reload(plots)\n",
    "\n",
    "plots.plot_data(df, df.columns, renderer=\"notebook\")"
   ]
  },
  {
   "cell_type": "code",
   "execution_count": null,
   "metadata": {},
   "outputs": [],
   "source": [
    "import calibrate\n",
    "reload(calibrate)\n",
    "calibrate.correct_values([0.1, 99.8], [0.1, 99.8], [0, 100])"
   ]
  }
 ],
 "metadata": {
  "kernelspec": {
   "display_name": "cbwins",
   "language": "python",
   "name": "python3"
  },
  "language_info": {
   "codemirror_mode": {
    "name": "ipython",
    "version": 3
   },
   "file_extension": ".py",
   "mimetype": "text/x-python",
   "name": "python",
   "nbconvert_exporter": "python",
   "pygments_lexer": "ipython3",
   "version": "3.10.4"
  },
  "vscode": {
   "interpreter": {
    "hash": "8573e48d94c16d182faef8441da5753156bf484b7a4dc84bba776e368088dd02"
   }
  }
 },
 "nbformat": 4,
 "nbformat_minor": 2
}
